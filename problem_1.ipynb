{
  "nbformat": 4,
  "nbformat_minor": 0,
  "metadata": {
    "colab": {
      "provenance": [],
      "authorship_tag": "ABX9TyNf9CHErXqxkvguBxQKYzuR",
      "include_colab_link": true
    },
    "kernelspec": {
      "name": "python3",
      "display_name": "Python 3"
    },
    "language_info": {
      "name": "python"
    }
  },
  "cells": [
    {
      "cell_type": "markdown",
      "metadata": {
        "id": "view-in-github",
        "colab_type": "text"
      },
      "source": [
        "<a href=\"https://colab.research.google.com/github/Anidafio/4105_hw1/blob/main/problem_1.ipynb\" target=\"_parent\"><img src=\"https://colab.research.google.com/assets/colab-badge.svg\" alt=\"Open In Colab\"/></a>"
      ]
    },
    {
      "cell_type": "code",
      "execution_count": 15,
      "metadata": {
        "colab": {
          "base_uri": "https://localhost:8080/"
        },
        "id": "kvYf9i3JcquT",
        "outputId": "7a96808d-56cf-4141-ae69-694beaa7738d"
      },
      "outputs": [
        {
          "output_type": "stream",
          "name": "stdout",
          "text": [
            "         X1        X2        X3         Y\n",
            "0  0.000000  3.440000  0.440000  4.387545\n",
            "1  0.040404  0.134949  0.888485  2.679650\n",
            "2  0.080808  0.829899  1.336970  2.968490\n",
            "3  0.121212  1.524848  1.785455  3.254065\n",
            "4  0.161616  2.219798  2.233939  3.536375\n"
          ]
        }
      ],
      "source": [
        "import numpy as np\n",
        "import pandas as pd\n",
        "import matplotlib.pyplot as plt\n",
        "\n",
        "# Use the URL for the raw CSV data\n",
        "url = 'https://raw.githubusercontent.com/Anidafio/4105_hw1/main/D3.csv'\n",
        "\n",
        "\n",
        "data = pd.read_csv(url)\n",
        "\n",
        "# Display the first 5 rows of the DataFrame\n",
        "print(data.head())"
      ]
    },
    {
      "cell_type": "code",
      "source": [
        "def compute_cost(X, y, theta):\n",
        "    \"\"\"\n",
        "    Compute cost for linear regression.\n",
        "\n",
        "    Parameters:\n",
        "    X : 2D array where each row represents the training example and each column represent the feature\n",
        "        m = number of training examples\n",
        "        n = number of features (including X_0 column of ones)\n",
        "    y : 1D array of labels/target values for each training example. dimension(m)\n",
        "    theta : 1D array of fitting parameters or weights. Dimension (n)\n",
        "\n",
        "    Returns:\n",
        "    J : Scalar value, the cost\n",
        "    \"\"\"\n",
        "    predictions = X.dot(theta)\n",
        "    errors = np.subtract(predictions, y)\n",
        "    sqrErrors = np.square(errors)\n",
        "    J = 1 / (2 * m) * np.sum(sqrErrors)\n",
        "    return J"
      ],
      "metadata": {
        "id": "j6S4koB7Py7K"
      },
      "execution_count": null,
      "outputs": []
    },
    {
      "cell_type": "code",
      "source": [
        "def gradient_descent(X, y, theta, alpha, iterations):\n",
        "    \"\"\"\n",
        "    Compute the optimal parameters using gradient descent for linear regression.\n",
        "\n",
        "    Parameters:\n",
        "    X : 2D array where each row represents the training example and each column represents the feature\n",
        "        m = number of training examples\n",
        "        n = number of features (including X_0 column of ones)\n",
        "    y : 1D array of labels/target values for each training example. dimension(m)\n",
        "    theta : 1D array of fitting parameters or weights. Dimension (n)\n",
        "    alpha : Learning rate (scalar)\n",
        "    iterations : Number of iterations (scalar)\n",
        "\n",
        "    Returns:\n",
        "    theta : Updated values of fitting parameters or weights after 'iterations' iterations. Dimension (n)\n",
        "    cost_history : Array containing the cost for each iteration. Dimension (iterations)\n",
        "    \"\"\"\n",
        "\n",
        "    m = len(y)  # Number of training examples\n",
        "    cost_history = np.zeros(iterations)\n",
        "\n",
        "    for i in range(iterations):\n",
        "        predictions = X.dot(theta)\n",
        "        errors = np.subtract(predictions, y)\n",
        "        sum_delta = (alpha / m) * X.transpose().dot(errors)\n",
        "        theta -= sum_delta\n",
        "        cost_history[i] = compute_cost(X, y, theta)\n",
        "\n",
        "    return theta, cost_history"
      ],
      "metadata": {
        "id": "_Tm_kCuzPzwg"
      },
      "execution_count": null,
      "outputs": []
    },
    {
      "cell_type": "code",
      "source": [
        "# Separate features and labels\n",
        "x1 = data.values[:, 0]  # get input values from first column -- X is a list here\n",
        "x2 = data.values[:, 1]  # get output values from second column -- Y is the list here\n",
        "x3 = data.values[:, 2]\n",
        "y = data.values[:, 3]\n",
        "m1 = len(x1)  # Number of training examples\n",
        "m2 = len(x2)  # Number of training examples\n",
        "m3 = len(x3)\n",
        "\n",
        "\n",
        "# Display first 5 records and the total number of training examples\n",
        "print('x1 = ', x1[: 5])\n",
        "print('x2 = ', x2[: 5])\n",
        "print('x3 = ', x3[: 5])\n",
        "print('m1 = ', m1)\n",
        "print('m2 = ', m2)\n",
        "print('m3 = ', m3)"
      ],
      "metadata": {
        "colab": {
          "base_uri": "https://localhost:8080/"
        },
        "id": "AYK4mgOv4yXX",
        "outputId": "e274f2e8-0db0-403d-9ab1-2d66d917ddcf"
      },
      "execution_count": 16,
      "outputs": [
        {
          "output_type": "stream",
          "name": "stdout",
          "text": [
            "x1 =  [0.         0.04040404 0.08080808 0.12121212 0.16161616]\n",
            "x2 =  [3.44       0.1349495  0.82989899 1.52484848 2.21979798]\n",
            "x3 =  [0.44       0.88848485 1.3369697  1.78545454 2.23393939]\n",
            "m1 =  100\n",
            "m2 =  100\n",
            "m3 =  100\n"
          ]
        }
      ]
    }
  ]
}